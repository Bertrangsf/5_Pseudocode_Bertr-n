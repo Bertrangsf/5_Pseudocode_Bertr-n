{
 "cells": [
  {
   "cell_type": "code",
   "execution_count": 1,
   "metadata": {},
   "outputs": [],
   "source": [
    "gandalf = [10, 11, 13, 30, 22, 11, 10, 33, 22, 22]\n",
    "saruman = [23, 66, 12, 43, 12, 10, 44, 23, 12, 17]"
   ]
  },
  {
   "cell_type": "raw",
   "metadata": {},
   "source": [
    "gandalf = convert to numbers \"gandalf list\"\n",
    "saruman = convert to numbers \"saruman list\"\n",
    "\n",
    "gandalf_wins = 0\n",
    "saruman_wins = 0\n",
    "\n",
    "for i to gandalf(\"from the first to the last numbers of the list\"):\n",
    "    if gandalf(i)>saruman(i):\n",
    "        gandalf_wins = gandalf_wins +1\n",
    "    ifelse gandalf(i)<saruman(i)\n",
    "        saruman_wins = saruman_wins +1\n",
    "\n",
    "if saruman_wins>gandalf_wins:\n",
    "    print(\"Saruman wins\")\n",
    "ifelse saruman_wins<gandalf_wins:\n",
    "    print(\"Gandalf wins\")\n",
    "else:\n",
    "    print(\"Tie\")"
   ]
  },
  {
   "cell_type": "code",
   "execution_count": 3,
   "metadata": {},
   "outputs": [
    {
     "name": "stdout",
     "output_type": "stream",
     "text": [
      "Saruman wins\n"
     ]
    }
   ],
   "source": [
    "gandalf = [10, 11, 13, 30, 22, 11, 10, 33, 22, 22]\n",
    "saruman = [23, 66, 12, 43, 12, 10, 44, 23, 12, 17]\n",
    "\n",
    "gandalf = str(gandalf)\n",
    "saruman = str(saruman)\n",
    "\n",
    "gandalf_wins = 0\n",
    "saruman_wins = 0\n",
    "\n",
    "for i in range(0,len(gandalf)):\n",
    "    \n",
    "    if gandalf[i]>saruman[i]:\n",
    "        gandalf_wins +=1\n",
    "    elif gandalf[i]<saruman[i]:\n",
    "        saruman_wins +=1\n",
    "\n",
    "if gandalf_wins<saruman_wins:\n",
    "    print(\"Saruman wins\")\n",
    "elif gandalf_wins>saruman_wins:\n",
    "    print(\"Gandalf wins\")\n",
    "else:\n",
    "    print(\"Tie\")"
   ]
  }
 ],
 "metadata": {
  "kernelspec": {
   "display_name": "Python 3",
   "language": "python",
   "name": "python3"
  },
  "language_info": {
   "codemirror_mode": {
    "name": "ipython",
    "version": 3
   },
   "file_extension": ".py",
   "mimetype": "text/x-python",
   "name": "python",
   "nbconvert_exporter": "python",
   "pygments_lexer": "ipython3",
   "version": "3.8.5"
  }
 },
 "nbformat": 4,
 "nbformat_minor": 4
}
